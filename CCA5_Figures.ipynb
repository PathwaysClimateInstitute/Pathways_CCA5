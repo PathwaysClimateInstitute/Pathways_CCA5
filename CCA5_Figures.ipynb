{
 "cells": [
  {
   "cell_type": "code",
   "execution_count": 1,
   "id": "daf7b96d-dfc3-44d2-8fb2-3162fb1e0b82",
   "metadata": {},
   "outputs": [],
   "source": [
    "import pandas as pd"
   ]
  },
  {
   "cell_type": "code",
   "execution_count": null,
   "id": "e20a0bb8-2c20-4041-80e4-c0a08a9ab4d2",
   "metadata": {},
   "outputs": [],
   "source": [
    "# bay area shapefile\n",
    "# merged gw shapefile"
   ]
  }
 ],
 "metadata": {
  "kernelspec": {
   "display_name": "Python (groundwater)",
   "language": "python",
   "name": "groundwater"
  },
  "language_info": {
   "codemirror_mode": {
    "name": "ipython",
    "version": 3
   },
   "file_extension": ".py",
   "mimetype": "text/x-python",
   "name": "python",
   "nbconvert_exporter": "python",
   "pygments_lexer": "ipython3",
   "version": "3.10.16"
  }
 },
 "nbformat": 4,
 "nbformat_minor": 5
}
